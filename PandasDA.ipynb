{
 "cells": [
  {
   "cell_type": "code",
   "execution_count": 1,
   "id": "7a779f74-0a6c-4389-8025-8f34cfb88f71",
   "metadata": {},
   "outputs": [],
   "source": [
    "import pandas as pd"
   ]
  },
  {
   "cell_type": "code",
   "execution_count": 2,
   "id": "64e30021-69c2-4d54-8d5e-d38b73180f97",
   "metadata": {},
   "outputs": [],
   "source": [
    "df = pd.read_csv(r\"C:\\Users\\Vanshika Garg\\Desktop\\sales_data_sample.csv\", encoding=\"latin1\")\n"
   ]
  },
  {
   "cell_type": "code",
   "execution_count": 3,
   "id": "3b7d0118-f7a2-4395-a4e4-5cc3e49ff0d5",
   "metadata": {},
   "outputs": [
    {
     "name": "stdout",
     "output_type": "stream",
     "text": [
      "      ORDERNUMBER  QUANTITYORDERED  PRICEEACH  ORDERLINENUMBER    SALES  \\\n",
      "0           10107               30      95.70                2  2871.00   \n",
      "1           10121               34      81.35                5  2765.90   \n",
      "2           10134               41      94.74                2  3884.34   \n",
      "3           10145               45      83.26                6  3746.70   \n",
      "4           10159               49     100.00               14  5205.27   \n",
      "...           ...              ...        ...              ...      ...   \n",
      "2818        10350               20     100.00               15  2244.40   \n",
      "2819        10373               29     100.00                1  3978.51   \n",
      "2820        10386               43     100.00                4  5417.57   \n",
      "2821        10397               34      62.24                1  2116.16   \n",
      "2822        10414               47      65.52                9  3079.44   \n",
      "\n",
      "            ORDERDATE    STATUS  QTR_ID  MONTH_ID  YEAR_ID  ...  \\\n",
      "0      2/24/2003 0:00   Shipped       1         2     2003  ...   \n",
      "1       5/7/2003 0:00   Shipped       2         5     2003  ...   \n",
      "2       7/1/2003 0:00   Shipped       3         7     2003  ...   \n",
      "3      8/25/2003 0:00   Shipped       3         8     2003  ...   \n",
      "4     10/10/2003 0:00   Shipped       4        10     2003  ...   \n",
      "...               ...       ...     ...       ...      ...  ...   \n",
      "2818   12/2/2004 0:00   Shipped       4        12     2004  ...   \n",
      "2819   1/31/2005 0:00   Shipped       1         1     2005  ...   \n",
      "2820    3/1/2005 0:00  Resolved       1         3     2005  ...   \n",
      "2821   3/28/2005 0:00   Shipped       1         3     2005  ...   \n",
      "2822    5/6/2005 0:00   On Hold       2         5     2005  ...   \n",
      "\n",
      "                       ADDRESSLINE1  ADDRESSLINE2           CITY STATE  \\\n",
      "0           897 Long Airport Avenue           NaN            NYC    NY   \n",
      "1                59 rue de l'Abbaye           NaN          Reims   NaN   \n",
      "2     27 rue du Colonel Pierre Avia           NaN          Paris   NaN   \n",
      "3                78934 Hillside Dr.           NaN       Pasadena    CA   \n",
      "4                   7734 Strong St.           NaN  San Francisco    CA   \n",
      "...                             ...           ...            ...   ...   \n",
      "2818             C/ Moralzarzal, 86           NaN         Madrid   NaN   \n",
      "2819                    Torikatu 38           NaN           Oulu   NaN   \n",
      "2820             C/ Moralzarzal, 86           NaN         Madrid   NaN   \n",
      "2821          1 rue Alsace-Lorraine           NaN       Toulouse   NaN   \n",
      "2822             8616 Spinnaker Dr.           NaN         Boston    MA   \n",
      "\n",
      "     POSTALCODE  COUNTRY TERRITORY CONTACTLASTNAME CONTACTFIRSTNAME DEALSIZE  \n",
      "0         10022      USA       NaN              Yu             Kwai    Small  \n",
      "1         51100   France      EMEA         Henriot             Paul    Small  \n",
      "2         75508   France      EMEA        Da Cunha           Daniel   Medium  \n",
      "3         90003      USA       NaN           Young            Julie   Medium  \n",
      "4           NaN      USA       NaN           Brown            Julie   Medium  \n",
      "...         ...      ...       ...             ...              ...      ...  \n",
      "2818      28034    Spain      EMEA          Freyre            Diego    Small  \n",
      "2819      90110  Finland      EMEA       Koskitalo           Pirkko   Medium  \n",
      "2820      28034    Spain      EMEA          Freyre            Diego   Medium  \n",
      "2821      31000   France      EMEA          Roulet          Annette    Small  \n",
      "2822      51003      USA       NaN         Yoshido             Juri   Medium  \n",
      "\n",
      "[2823 rows x 25 columns]\n"
     ]
    }
   ],
   "source": [
    "print(df)"
   ]
  },
  {
   "cell_type": "markdown",
   "id": "e05fa31b-eef5-4592-861c-e3b9a6b3c306",
   "metadata": {},
   "source": [
    "# EXPLORING DATA\n",
    "\n",
    "''' \n",
    "df.head()          # First 5 rows\n",
    "df.tail()          # Last 5 rows\n",
    "df.shape           # (rows, columns)\n",
    "df.columns         # List of column names\n",
    "df.info()          # Column info, non-null counts\n",
    "df.describe()      # Summary stats for numeric columns\n",
    "df.dtypes          # Data types of each column\n",
    "'''"
   ]
  },
  {
   "cell_type": "code",
   "execution_count": 4,
   "id": "c7d60327-cc18-4bad-b37f-1283258b5259",
   "metadata": {},
   "outputs": [
    {
     "name": "stdout",
     "output_type": "stream",
     "text": [
      "   ORDERNUMBER  QUANTITYORDERED  PRICEEACH  ORDERLINENUMBER    SALES  \\\n",
      "0        10107               30      95.70                2  2871.00   \n",
      "1        10121               34      81.35                5  2765.90   \n",
      "2        10134               41      94.74                2  3884.34   \n",
      "3        10145               45      83.26                6  3746.70   \n",
      "4        10159               49     100.00               14  5205.27   \n",
      "5        10168               36      96.66                1  3479.76   \n",
      "6        10180               29      86.13                9  2497.77   \n",
      "7        10188               48     100.00                1  5512.32   \n",
      "8        10201               22      98.57                2  2168.54   \n",
      "9        10211               41     100.00               14  4708.44   \n",
      "\n",
      "         ORDERDATE   STATUS  QTR_ID  MONTH_ID  YEAR_ID  ...  \\\n",
      "0   2/24/2003 0:00  Shipped       1         2     2003  ...   \n",
      "1    5/7/2003 0:00  Shipped       2         5     2003  ...   \n",
      "2    7/1/2003 0:00  Shipped       3         7     2003  ...   \n",
      "3   8/25/2003 0:00  Shipped       3         8     2003  ...   \n",
      "4  10/10/2003 0:00  Shipped       4        10     2003  ...   \n",
      "5  10/28/2003 0:00  Shipped       4        10     2003  ...   \n",
      "6  11/11/2003 0:00  Shipped       4        11     2003  ...   \n",
      "7  11/18/2003 0:00  Shipped       4        11     2003  ...   \n",
      "8   12/1/2003 0:00  Shipped       4        12     2003  ...   \n",
      "9   1/15/2004 0:00  Shipped       1         1     2004  ...   \n",
      "\n",
      "                    ADDRESSLINE1  ADDRESSLINE2           CITY STATE  \\\n",
      "0        897 Long Airport Avenue           NaN            NYC    NY   \n",
      "1             59 rue de l'Abbaye           NaN          Reims   NaN   \n",
      "2  27 rue du Colonel Pierre Avia           NaN          Paris   NaN   \n",
      "3             78934 Hillside Dr.           NaN       Pasadena    CA   \n",
      "4                7734 Strong St.           NaN  San Francisco    CA   \n",
      "5              9408 Furth Circle           NaN     Burlingame    CA   \n",
      "6        184, chausse de Tournai           NaN          Lille   NaN   \n",
      "7    Drammen 121, PR 744 Sentrum           NaN         Bergen   NaN   \n",
      "8      5557 North Pendale Street           NaN  San Francisco    CA   \n",
      "9              25, rue Lauriston           NaN          Paris   NaN   \n",
      "\n",
      "  POSTALCODE COUNTRY TERRITORY CONTACTLASTNAME CONTACTFIRSTNAME DEALSIZE  \n",
      "0      10022     USA       NaN              Yu             Kwai    Small  \n",
      "1      51100  France      EMEA         Henriot             Paul    Small  \n",
      "2      75508  France      EMEA        Da Cunha           Daniel   Medium  \n",
      "3      90003     USA       NaN           Young            Julie   Medium  \n",
      "4        NaN     USA       NaN           Brown            Julie   Medium  \n",
      "5      94217     USA       NaN          Hirano             Juri   Medium  \n",
      "6      59000  France      EMEA           Rance          Martine    Small  \n",
      "7     N 5804  Norway      EMEA          Oeztan           Veysel   Medium  \n",
      "8        NaN     USA       NaN          Murphy            Julie    Small  \n",
      "9      75016  France      EMEA         Perrier        Dominique   Medium  \n",
      "\n",
      "[10 rows x 25 columns]\n"
     ]
    }
   ],
   "source": [
    "print(df.head(10))\n"
   ]
  },
  {
   "cell_type": "code",
   "execution_count": 5,
   "id": "3ccfa352-8eb7-4513-9a96-8f2a9cc21ae9",
   "metadata": {},
   "outputs": [
    {
     "name": "stdout",
     "output_type": "stream",
     "text": [
      "      ORDERNUMBER  QUANTITYORDERED  PRICEEACH  ORDERLINENUMBER    SALES  \\\n",
      "2813        10293               32      60.06                1  1921.92   \n",
      "2814        10306               35      59.51                6  2082.85   \n",
      "2815        10315               40      55.69                5  2227.60   \n",
      "2816        10327               37      86.74                4  3209.38   \n",
      "2817        10337               42      97.16                5  4080.72   \n",
      "2818        10350               20     100.00               15  2244.40   \n",
      "2819        10373               29     100.00                1  3978.51   \n",
      "2820        10386               43     100.00                4  5417.57   \n",
      "2821        10397               34      62.24                1  2116.16   \n",
      "2822        10414               47      65.52                9  3079.44   \n",
      "\n",
      "            ORDERDATE    STATUS  QTR_ID  MONTH_ID  YEAR_ID  ...  \\\n",
      "2813    9/9/2004 0:00   Shipped       3         9     2004  ...   \n",
      "2814  10/14/2004 0:00   Shipped       4        10     2004  ...   \n",
      "2815  10/29/2004 0:00   Shipped       4        10     2004  ...   \n",
      "2816  11/10/2004 0:00  Resolved       4        11     2004  ...   \n",
      "2817  11/21/2004 0:00   Shipped       4        11     2004  ...   \n",
      "2818   12/2/2004 0:00   Shipped       4        12     2004  ...   \n",
      "2819   1/31/2005 0:00   Shipped       1         1     2005  ...   \n",
      "2820    3/1/2005 0:00  Resolved       1         3     2005  ...   \n",
      "2821   3/28/2005 0:00   Shipped       1         3     2005  ...   \n",
      "2822    5/6/2005 0:00   On Hold       2         5     2005  ...   \n",
      "\n",
      "                      ADDRESSLINE1  ADDRESSLINE2        CITY STATE POSTALCODE  \\\n",
      "2813           Via Monte Bianco 34           NaN      Torino   NaN      10100   \n",
      "2814             Fauntleroy Circus           NaN  Manchester   NaN    EC2 5NT   \n",
      "2815  67, rue des Cinquante Otages           NaN      Nantes   NaN      44000   \n",
      "2816                  Vinb'ltet 34           NaN   Kobenhavn   NaN       1734   \n",
      "2817              5905 Pompton St.     Suite 750         NYC    NY      10022   \n",
      "2818            C/ Moralzarzal, 86           NaN      Madrid   NaN      28034   \n",
      "2819                   Torikatu 38           NaN        Oulu   NaN      90110   \n",
      "2820            C/ Moralzarzal, 86           NaN      Madrid   NaN      28034   \n",
      "2821         1 rue Alsace-Lorraine           NaN    Toulouse   NaN      31000   \n",
      "2822            8616 Spinnaker Dr.           NaN      Boston    MA      51003   \n",
      "\n",
      "      COUNTRY TERRITORY CONTACTLASTNAME CONTACTFIRSTNAME DEALSIZE  \n",
      "2813    Italy      EMEA         Accorti            Paolo    Small  \n",
      "2814       UK      EMEA        Ashworth         Victoria    Small  \n",
      "2815   France      EMEA         Labrune           Janine    Small  \n",
      "2816  Denmark      EMEA        Petersen            Jytte   Medium  \n",
      "2817      USA       NaN       Hernandez            Maria   Medium  \n",
      "2818    Spain      EMEA          Freyre            Diego    Small  \n",
      "2819  Finland      EMEA       Koskitalo           Pirkko   Medium  \n",
      "2820    Spain      EMEA          Freyre            Diego   Medium  \n",
      "2821   France      EMEA          Roulet          Annette    Small  \n",
      "2822      USA       NaN         Yoshido             Juri   Medium  \n",
      "\n",
      "[10 rows x 25 columns]\n"
     ]
    }
   ],
   "source": [
    "print(df.tail(10))"
   ]
  },
  {
   "cell_type": "code",
   "execution_count": 6,
   "id": "e69f2404-2738-4a22-a316-a88a409c2611",
   "metadata": {},
   "outputs": [],
   "source": [
    "data = {\n",
    "    \"Name\":['Ram','sam',None,'Tam','kim','shim'],\n",
    "    \"Age\":[14,16,15,23,None,45],\n",
    "    \"Roll No.\" :[1,4,None,6,2,6],\n",
    "    \"salary\":[20000,23000,12000,None,34000,45000]\n",
    "}"
   ]
  },
  {
   "cell_type": "code",
   "execution_count": 7,
   "id": "feff8fe6-23a4-4620-80bc-8021c8c8a16b",
   "metadata": {},
   "outputs": [],
   "source": [
    "df=pd.DataFrame(data)"
   ]
  },
  {
   "cell_type": "code",
   "execution_count": 8,
   "id": "9aeb2f6d-5c05-4561-8ad9-4beba7e13cc6",
   "metadata": {},
   "outputs": [
    {
     "name": "stdout",
     "output_type": "stream",
     "text": [
      "<class 'pandas.core.frame.DataFrame'>\n",
      "RangeIndex: 6 entries, 0 to 5\n",
      "Data columns (total 4 columns):\n",
      " #   Column    Non-Null Count  Dtype  \n",
      "---  ------    --------------  -----  \n",
      " 0   Name      5 non-null      object \n",
      " 1   Age       5 non-null      float64\n",
      " 2   Roll No.  5 non-null      float64\n",
      " 3   salary    5 non-null      float64\n",
      "dtypes: float64(3), object(1)\n",
      "memory usage: 324.0+ bytes\n",
      "None\n"
     ]
    }
   ],
   "source": [
    "print(df.info())"
   ]
  },
  {
   "cell_type": "code",
   "execution_count": 9,
   "id": "5fb47a12-ecb0-4c53-9d23-23e5ab6d16d7",
   "metadata": {},
   "outputs": [
    {
     "name": "stdout",
     "output_type": "stream",
     "text": [
      "   Name   Age  Roll No.   salary\n",
      "0   Ram  14.0       1.0  20000.0\n",
      "1   sam  16.0       4.0  23000.0\n",
      "2  None  15.0       NaN  12000.0\n",
      "3   Tam  23.0       6.0      NaN\n",
      "4   kim   NaN       2.0  34000.0\n",
      "5  shim  45.0       6.0  45000.0\n"
     ]
    }
   ],
   "source": [
    "print(df)"
   ]
  },
  {
   "cell_type": "code",
   "execution_count": 10,
   "id": "96cfa4cc-2d6e-4c57-a07b-225c916daee9",
   "metadata": {},
   "outputs": [
    {
     "name": "stdout",
     "output_type": "stream",
     "text": [
      "             Age  Roll No.        salary\n",
      "count   5.000000  5.000000      5.000000\n",
      "mean   22.600000  3.800000  26800.000000\n",
      "std    13.011533  2.280351  12872.451204\n",
      "min    14.000000  1.000000  12000.000000\n",
      "25%    15.000000  2.000000  20000.000000\n",
      "50%    16.000000  4.000000  23000.000000\n",
      "75%    23.000000  6.000000  34000.000000\n",
      "max    45.000000  6.000000  45000.000000\n"
     ]
    }
   ],
   "source": [
    "print(df.describe())"
   ]
  },
  {
   "cell_type": "code",
   "execution_count": 11,
   "id": "4062086a-e4de-4a6c-8295-716d91fb3d9d",
   "metadata": {},
   "outputs": [
    {
     "name": "stdout",
     "output_type": "stream",
     "text": [
      "(6, 4)\n"
     ]
    }
   ],
   "source": [
    "print(df.shape)"
   ]
  },
  {
   "cell_type": "code",
   "execution_count": 12,
   "id": "899b0644-8a76-40ce-bc0f-a3b037e745bb",
   "metadata": {},
   "outputs": [
    {
     "name": "stdout",
     "output_type": "stream",
     "text": [
      "Index(['Name', 'Age', 'Roll No.', 'salary'], dtype='object')\n"
     ]
    }
   ],
   "source": [
    "print(df.columns)"
   ]
  },
  {
   "cell_type": "markdown",
   "id": "ceac0bf0-572b-4825-a460-d6034223e1a6",
   "metadata": {},
   "source": [
    "# CLEANING DATA\n",
    "\n",
    "'''\n",
    "df.isnull().sum()             # Count missing values\n",
    "df.dropna()                   # Drop rows with NaN\n",
    "df.fillna(0)                  # Replace NaN with 0\n",
    "df['col'].replace('?', np.nan)  # Replace bad values\n",
    "\n",
    "df['col'] = df['col'].astype(int)   # Change data type\n",
    "df.columns = df.columns.str.strip() # Remove extra spaces in col names\n",
    "'''"
   ]
  },
  {
   "cell_type": "code",
   "execution_count": 13,
   "id": "d68ebd3f-aefe-4708-9298-5d93f37abd40",
   "metadata": {},
   "outputs": [
    {
     "name": "stdout",
     "output_type": "stream",
     "text": [
      "   Name   Age\n",
      "0   Ram  14.0\n",
      "1   sam  16.0\n",
      "2  None  15.0\n",
      "3   Tam  23.0\n",
      "4   kim   NaN\n",
      "5  shim  45.0\n"
     ]
    }
   ],
   "source": [
    "print(df[[\"Name\",\"Age\"]])"
   ]
  },
  {
   "cell_type": "code",
   "execution_count": 14,
   "id": "b4284ac0-0e9a-4411-9940-bdee373a150f",
   "metadata": {},
   "outputs": [
    {
     "name": "stdout",
     "output_type": "stream",
     "text": [
      "   Name   Age  Roll No.   salary\n",
      "1   sam  16.0       4.0  23000.0\n",
      "5  shim  45.0       6.0  45000.0\n"
     ]
    }
   ],
   "source": [
    "print(df[(df[\"salary\"]>10000) & (df[\"Age\"]>15)])"
   ]
  },
  {
   "cell_type": "code",
   "execution_count": 15,
   "id": "49083414-430c-4348-95be-ea0de5847bf1",
   "metadata": {},
   "outputs": [],
   "source": [
    "df[\"bonus\"]=df[\"salary\"] * 0.1"
   ]
  },
  {
   "cell_type": "code",
   "execution_count": 16,
   "id": "2cf65aa9-08b7-41a9-88ba-889e0dc52478",
   "metadata": {},
   "outputs": [
    {
     "name": "stdout",
     "output_type": "stream",
     "text": [
      "   Name   Age  Roll No.   salary   bonus\n",
      "0   Ram  14.0       1.0  20000.0  2000.0\n",
      "1   sam  16.0       4.0  23000.0  2300.0\n",
      "2  None  15.0       NaN  12000.0  1200.0\n",
      "3   Tam  23.0       6.0      NaN     NaN\n",
      "4   kim   NaN       2.0  34000.0  3400.0\n",
      "5  shim  45.0       6.0  45000.0  4500.0\n"
     ]
    }
   ],
   "source": [
    "print(df)"
   ]
  },
  {
   "cell_type": "code",
   "execution_count": 17,
   "id": "8227d43f-cda8-4f88-9d59-cc09ab100998",
   "metadata": {},
   "outputs": [],
   "source": [
    "df.loc[3,\"salary\"]=15000"
   ]
  },
  {
   "cell_type": "code",
   "execution_count": 18,
   "id": "7a11150f-7ba4-4f77-ae6d-7c52f1329b58",
   "metadata": {},
   "outputs": [
    {
     "name": "stdout",
     "output_type": "stream",
     "text": [
      "   Name   Age  Roll No.   salary   bonus\n",
      "0   Ram  14.0       1.0  20000.0  2000.0\n",
      "1   sam  16.0       4.0  23000.0  2300.0\n",
      "2  None  15.0       NaN  12000.0  1200.0\n",
      "3   Tam  23.0       6.0  15000.0     NaN\n",
      "4   kim   NaN       2.0  34000.0  3400.0\n",
      "5  shim  45.0       6.0  45000.0  4500.0\n"
     ]
    }
   ],
   "source": [
    "print(df)"
   ]
  },
  {
   "cell_type": "code",
   "execution_count": 19,
   "id": "0fa6c96a-5dc4-4ec9-b021-db2f0e66f11e",
   "metadata": {},
   "outputs": [
    {
     "name": "stdout",
     "output_type": "stream",
     "text": [
      "   Name  Roll No.   salary   bonus\n",
      "0   Ram       1.0  20000.0  2000.0\n",
      "1   sam       4.0  23000.0  2300.0\n",
      "2  None       NaN  12000.0  1200.0\n",
      "3   Tam       6.0  15000.0     NaN\n",
      "4   kim       2.0  34000.0  3400.0\n",
      "5  shim       6.0  45000.0  4500.0\n"
     ]
    }
   ],
   "source": [
    "df.drop(columns=[\"Age\"],inplace=True)\n",
    "print(df)"
   ]
  },
  {
   "cell_type": "code",
   "execution_count": 20,
   "id": "02d9bbfb-cba0-4c2d-a571-cdab957accba",
   "metadata": {},
   "outputs": [],
   "source": [
    "df.fillna(0, inplace=True)"
   ]
  },
  {
   "cell_type": "code",
   "execution_count": 21,
   "id": "aba24a74-93be-42a3-9fab-5778a237a85e",
   "metadata": {},
   "outputs": [
    {
     "name": "stdout",
     "output_type": "stream",
     "text": [
      "   Name  Roll No.   salary   bonus\n",
      "0   Ram       1.0  20000.0  2000.0\n",
      "1   sam       4.0  23000.0  2300.0\n",
      "2     0       0.0  12000.0  1200.0\n",
      "3   Tam       6.0  15000.0     0.0\n",
      "4   kim       2.0  34000.0  3400.0\n",
      "5  shim       6.0  45000.0  4500.0\n"
     ]
    }
   ],
   "source": [
    "print(df)"
   ]
  },
  {
   "cell_type": "code",
   "execution_count": 22,
   "id": "6fd2066e-f6a2-41ba-b4ff-d7f8eb18bc1b",
   "metadata": {},
   "outputs": [
    {
     "name": "stdout",
     "output_type": "stream",
     "text": [
      "    Name  Roll No.   salary   bonus\n",
      "0    Ram       1.0  20000.0  2000.0\n",
      "1    sam       4.0  23000.0  2300.0\n",
      "2  simmy       0.0  12000.0  1200.0\n",
      "3    Tam       6.0  15000.0     0.0\n",
      "4    kim       2.0  34000.0  3400.0\n",
      "5   shim       6.0  45000.0  4500.0\n"
     ]
    }
   ],
   "source": [
    "df[\"Name\"]=df['Name'].replace(0,\"simmy\")\n",
    "print(df)"
   ]
  },
  {
   "cell_type": "code",
   "execution_count": 23,
   "id": "d58c04ac-a001-4b34-94ac-cfd9122f1438",
   "metadata": {},
   "outputs": [
    {
     "name": "stdout",
     "output_type": "stream",
     "text": [
      "Roll No.\n",
      "0.0    12000.0\n",
      "1.0    20000.0\n",
      "2.0    34000.0\n",
      "4.0    23000.0\n",
      "6.0    60000.0\n",
      "Name: salary, dtype: float64\n"
     ]
    }
   ],
   "source": [
    "grouped=df.groupby(\"Roll No.\")[\"salary\"].sum()\n",
    "print(grouped)"
   ]
  },
  {
   "cell_type": "code",
   "execution_count": 24,
   "id": "6e2e28bd-f503-47fd-9343-072f8c8e304d",
   "metadata": {},
   "outputs": [],
   "source": [
    "information ={\n",
    "    \"TIME\": [1,2,3,4],\n",
    "    \"VALUE\":[10,20,None,45]\n",
    "}"
   ]
  },
  {
   "cell_type": "code",
   "execution_count": 25,
   "id": "ce509ef8-f93b-4c7d-9c02-6326c00744dc",
   "metadata": {},
   "outputs": [],
   "source": [
    "df=pd.DataFrame(information)"
   ]
  },
  {
   "cell_type": "code",
   "execution_count": 26,
   "id": "17470d4e-1d47-4c1b-82dc-3d7e85d7cfa0",
   "metadata": {},
   "outputs": [
    {
     "name": "stdout",
     "output_type": "stream",
     "text": [
      "   TIME  VALUE\n",
      "0     1   10.0\n",
      "1     2   20.0\n",
      "2     3   32.5\n",
      "3     4   45.0\n"
     ]
    }
   ],
   "source": [
    "df[\"VALUE\"]=df[\"VALUE\"].interpolate(method=\"linear\")\n",
    "print(df)"
   ]
  },
  {
   "cell_type": "code",
   "execution_count": 27,
   "id": "eeb21482-f60c-4057-af1b-8ae53681442d",
   "metadata": {},
   "outputs": [],
   "source": [
    "df1 = pd.DataFrame({\n",
    "    'ID': [1, 2, 3],\n",
    "    'Name': ['Alice', 'Bob', 'Charlie']\n",
    "})\n",
    "\n",
    "# DataFrame 2\n",
    "df2 = pd.DataFrame({\n",
    "    'ID': [1, 2, 4],\n",
    "    'Score': [85, 90, 88]\n",
    "})\n"
   ]
  },
  {
   "cell_type": "code",
   "execution_count": 28,
   "id": "aa72712b-648d-458c-baf7-5638d7b7788d",
   "metadata": {},
   "outputs": [
    {
     "name": "stdout",
     "output_type": "stream",
     "text": [
      "   ID   Name  Score\n",
      "0   1  Alice     85\n",
      "1   2    Bob     90\n"
     ]
    }
   ],
   "source": [
    "merged=pd.merge(df1,df2,on='ID',how='inner')\n",
    "print(merged)"
   ]
  },
  {
   "cell_type": "code",
   "execution_count": 29,
   "id": "ef26dd44-3577-43de-a4d3-a8c99d5a4f2e",
   "metadata": {},
   "outputs": [
    {
     "name": "stdout",
     "output_type": "stream",
     "text": [
      "   ID     Name\n",
      "0   1    Alice\n",
      "1   2      Bob\n",
      "2   3  Charlie\n",
      "3   4    David\n"
     ]
    }
   ],
   "source": [
    "\n",
    "df1 = pd.DataFrame({'ID': [1, 2], 'Name': ['Alice', 'Bob']})\n",
    "df2 = pd.DataFrame({'ID': [3, 4], 'Name': ['Charlie', 'David']})\n",
    "\n",
    "result = pd.concat([df1, df2], axis=0,ignore_index=True)\n",
    "print(result)\n",
    "#ignore_index=true : returns continuos index\n",
    "#axis=1 : coloumn wise concat"
   ]
  },
  {
   "cell_type": "markdown",
   "id": "9e78ac17-6f38-4d92-8476-358b5e91fdb6",
   "metadata": {},
   "source": [
    "# Filtering / Selecting Data\n",
    "'''\n",
    "df['col']                  # Single column\n",
    "df[['col1', 'col2']]       # Multiple columns\n",
    "\n",
    "df[df['col'] > 10]         # Filter by condition\n",
    "df[(df['A'] > 5) & (df['B'] < 10)]   # Multiple conditions\n",
    "\n",
    "df.iloc[0:5]               # First 5 rows by position\n",
    "df.loc[:, ['Name', 'Age']] # Select by label\n",
    "'''"
   ]
  },
  {
   "cell_type": "markdown",
   "id": "bdc77ee3-d784-4712-8238-3010f011469a",
   "metadata": {},
   "source": [
    "# Aggregations & Grouping\n",
    "\n",
    "'''\n",
    "df['Salary'].sum()\n",
    "df['Salary'].mean()\n",
    "df.groupby('Department').mean()\n",
    "df.groupby(['Dept', 'Gender'])['Salary'].sum()\n",
    "'''"
   ]
  }
 ],
 "metadata": {
  "kernelspec": {
   "display_name": "Python 3 (ipykernel)",
   "language": "python",
   "name": "python3"
  },
  "language_info": {
   "codemirror_mode": {
    "name": "ipython",
    "version": 3
   },
   "file_extension": ".py",
   "mimetype": "text/x-python",
   "name": "python",
   "nbconvert_exporter": "python",
   "pygments_lexer": "ipython3",
   "version": "3.12.7"
  }
 },
 "nbformat": 4,
 "nbformat_minor": 5
}
