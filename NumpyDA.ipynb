{
 "cells": [
  {
   "cell_type": "code",
   "execution_count": 1,
   "id": "c084fa1b-7a93-4ffd-9cee-9f0df16e5070",
   "metadata": {},
   "outputs": [],
   "source": [
    "import numpy as np\n"
   ]
  },
  {
   "cell_type": "markdown",
   "id": "445dfade-f3a6-46de-b512-62704c4a9c71",
   "metadata": {},
   "source": [
    "# 1. Array Creation"
   ]
  },
  {
   "cell_type": "code",
   "execution_count": 2,
   "id": "a709e7db-4c0d-44df-8504-61155ffd43e1",
   "metadata": {},
   "outputs": [
    {
     "name": "stdout",
     "output_type": "stream",
     "text": [
      "[[1 2 3]\n",
      " [4 5 6]]\n"
     ]
    }
   ],
   "source": [
    "arr = np.array([[1,2,3],[4,5,6]])\n",
    "print(arr)"
   ]
  },
  {
   "cell_type": "code",
   "execution_count": 3,
   "id": "45009c36-ab57-4839-9d72-736413ebd8c4",
   "metadata": {},
   "outputs": [
    {
     "name": "stdout",
     "output_type": "stream",
     "text": [
      "[[0. 0. 0.]\n",
      " [0. 0. 0.]]\n"
     ]
    }
   ],
   "source": [
    "print(np.zeros((2,3)))"
   ]
  },
  {
   "cell_type": "code",
   "execution_count": 4,
   "id": "0daea227-5873-43a5-91bb-26ab6274037e",
   "metadata": {},
   "outputs": [
    {
     "name": "stdout",
     "output_type": "stream",
     "text": [
      "[[1. 0. 0.]\n",
      " [0. 1. 0.]\n",
      " [0. 0. 1.]]\n"
     ]
    }
   ],
   "source": [
    "print((np.eye(3,3)))"
   ]
  },
  {
   "cell_type": "code",
   "execution_count": 5,
   "id": "06b0a2d1-993f-40a5-bb96-014c0dc58b2c",
   "metadata": {},
   "outputs": [
    {
     "name": "stdout",
     "output_type": "stream",
     "text": [
      "[1. 1. 1. 1. 1.]\n"
     ]
    }
   ],
   "source": [
    "print(np.ones(5))"
   ]
  },
  {
   "cell_type": "code",
   "execution_count": 6,
   "id": "09b0b3c0-15a3-498d-a700-efeb8e58fd94",
   "metadata": {},
   "outputs": [
    {
     "name": "stdout",
     "output_type": "stream",
     "text": [
      "[0.   0.25 0.5  0.75 1.  ]\n"
     ]
    }
   ],
   "source": [
    "print(np.linspace(0,1,5))"
   ]
  },
  {
   "cell_type": "code",
   "execution_count": 7,
   "id": "27bde9d6-d67f-4435-98b1-ebab1a07cf70",
   "metadata": {},
   "outputs": [
    {
     "name": "stdout",
     "output_type": "stream",
     "text": [
      "[[0.7911287  0.24733331]\n",
      " [0.07197235 0.91882964]\n",
      " [0.39462386 0.76101665]]\n"
     ]
    }
   ],
   "source": [
    "print(np.random.rand(3,2))"
   ]
  },
  {
   "cell_type": "markdown",
   "id": "29ae3df1-0f02-478a-b449-803fb568648b",
   "metadata": {},
   "source": [
    "# 2. Array Inspection"
   ]
  },
  {
   "cell_type": "code",
   "execution_count": 8,
   "id": "b71675f4-2cdd-4e99-a1ff-2370d8083d42",
   "metadata": {},
   "outputs": [
    {
     "name": "stdout",
     "output_type": "stream",
     "text": [
      "(2, 3)\n"
     ]
    }
   ],
   "source": [
    "print(arr.shape)"
   ]
  },
  {
   "cell_type": "code",
   "execution_count": 9,
   "id": "2a0ebb72-5abc-47d6-86ce-c449447e42ed",
   "metadata": {},
   "outputs": [
    {
     "data": {
      "text/plain": [
       "dtype('int32')"
      ]
     },
     "execution_count": 9,
     "metadata": {},
     "output_type": "execute_result"
    }
   ],
   "source": [
    "arr.dtype"
   ]
  },
  {
   "cell_type": "code",
   "execution_count": 10,
   "id": "8695ce06-0f5c-434c-a9f1-f383788f55c6",
   "metadata": {},
   "outputs": [
    {
     "data": {
      "text/plain": [
       "2"
      ]
     },
     "execution_count": 10,
     "metadata": {},
     "output_type": "execute_result"
    }
   ],
   "source": [
    "arr.ndim"
   ]
  },
  {
   "cell_type": "code",
   "execution_count": 11,
   "id": "85313a6c-00ff-468a-8399-2b1a1f419dfd",
   "metadata": {},
   "outputs": [
    {
     "data": {
      "text/plain": [
       "6"
      ]
     },
     "execution_count": 11,
     "metadata": {},
     "output_type": "execute_result"
    }
   ],
   "source": [
    "arr.size\n"
   ]
  },
  {
   "cell_type": "markdown",
   "id": "fa867efd-d333-495a-bcea-66e1fafec2c1",
   "metadata": {},
   "source": [
    "# 3. Indexing & Slicing"
   ]
  },
  {
   "cell_type": "code",
   "execution_count": 12,
   "id": "b29610ce-091f-47a2-b06f-6cd753002b80",
   "metadata": {},
   "outputs": [
    {
     "data": {
      "text/plain": [
       "array([1, 2, 3])"
      ]
     },
     "execution_count": 12,
     "metadata": {},
     "output_type": "execute_result"
    }
   ],
   "source": [
    "arr[0]"
   ]
  },
  {
   "cell_type": "code",
   "execution_count": 13,
   "id": "c6832a6a-5c1c-4dc0-a9bd-040ccd48fc2b",
   "metadata": {},
   "outputs": [
    {
     "data": {
      "text/plain": [
       "array([[4, 5, 6]])"
      ]
     },
     "execution_count": 13,
     "metadata": {},
     "output_type": "execute_result"
    }
   ],
   "source": [
    "arr[1:3]\n",
    "#row 1 and 2 are returned\n",
    "#last one is not inclusive"
   ]
  },
  {
   "cell_type": "code",
   "execution_count": 14,
   "id": "c09c5fd4-0999-4ff3-adb4-2915b0c60c96",
   "metadata": {},
   "outputs": [
    {
     "data": {
      "text/plain": [
       "array([2, 5])"
      ]
     },
     "execution_count": 14,
     "metadata": {},
     "output_type": "execute_result"
    }
   ],
   "source": [
    "arr[:,1]"
   ]
  },
  {
   "cell_type": "code",
   "execution_count": 15,
   "id": "16ec9bd7-6e97-4536-a967-91b2a93317de",
   "metadata": {},
   "outputs": [],
   "source": [
    "#arr[arr>4]"
   ]
  },
  {
   "cell_type": "markdown",
   "id": "6969a98e-07dd-4535-9421-c0b2a211d576",
   "metadata": {},
   "source": [
    "# 4. Mathematical Operations"
   ]
  },
  {
   "cell_type": "code",
   "execution_count": 16,
   "id": "5ef03998-8677-4b11-b69a-42b0a92ccc95",
   "metadata": {},
   "outputs": [
    {
     "data": {
      "text/plain": [
       "array([[11, 12, 13],\n",
       "       [14, 15, 16]])"
      ]
     },
     "execution_count": 16,
     "metadata": {},
     "output_type": "execute_result"
    }
   ],
   "source": [
    "arr+10"
   ]
  },
  {
   "cell_type": "code",
   "execution_count": 17,
   "id": "4cb0073f-d98d-4ca6-9b7a-3f6ddb302189",
   "metadata": {},
   "outputs": [
    {
     "data": {
      "text/plain": [
       "3.5"
      ]
     },
     "execution_count": 17,
     "metadata": {},
     "output_type": "execute_result"
    }
   ],
   "source": [
    "np.mean(arr)\n"
   ]
  },
  {
   "cell_type": "code",
   "execution_count": 18,
   "id": "7d99da4c-bc1f-4671-acf3-e0a7fe6df82a",
   "metadata": {},
   "outputs": [
    {
     "data": {
      "text/plain": [
       "1.707825127659933"
      ]
     },
     "execution_count": 18,
     "metadata": {},
     "output_type": "execute_result"
    }
   ],
   "source": [
    "np.std(arr)"
   ]
  },
  {
   "cell_type": "code",
   "execution_count": 19,
   "id": "514ef479-06fe-4e8b-9dd1-62fa2013cab9",
   "metadata": {},
   "outputs": [
    {
     "data": {
      "text/plain": [
       "2.9166666666666665"
      ]
     },
     "execution_count": 19,
     "metadata": {},
     "output_type": "execute_result"
    }
   ],
   "source": [
    "np.var(arr)"
   ]
  },
  {
   "cell_type": "code",
   "execution_count": 20,
   "id": "91a600e2-8f3a-41a7-990a-0da7d2441d0a",
   "metadata": {},
   "outputs": [
    {
     "data": {
      "text/plain": [
       "21"
      ]
     },
     "execution_count": 20,
     "metadata": {},
     "output_type": "execute_result"
    }
   ],
   "source": [
    "np.sum(arr)"
   ]
  },
  {
   "cell_type": "code",
   "execution_count": 21,
   "id": "6adf81a1-e90e-42f9-b11b-fc6ae32b07e7",
   "metadata": {},
   "outputs": [
    {
     "data": {
      "text/plain": [
       "array([[1, 1],\n",
       "       [1, 1]])"
      ]
     },
     "execution_count": 21,
     "metadata": {},
     "output_type": "execute_result"
    }
   ],
   "source": [
    "np.diff(arr)"
   ]
  },
  {
   "cell_type": "code",
   "execution_count": 22,
   "id": "3ab4cdbf-d631-4711-b9bc-b447988d9cb9",
   "metadata": {},
   "outputs": [
    {
     "data": {
      "text/plain": [
       "array([ 1,  3,  6, 10, 15, 21])"
      ]
     },
     "execution_count": 22,
     "metadata": {},
     "output_type": "execute_result"
    }
   ],
   "source": [
    "np.cumsum(arr)"
   ]
  },
  {
   "cell_type": "code",
   "execution_count": 23,
   "id": "c7239cb4-63db-48d1-bc80-24e816acc6e9",
   "metadata": {},
   "outputs": [
    {
     "data": {
      "text/plain": [
       "array([[1, 2, 3],\n",
       "       [5, 7, 9]])"
      ]
     },
     "execution_count": 23,
     "metadata": {},
     "output_type": "execute_result"
    }
   ],
   "source": [
    "np.cumsum(arr,axis=0) \n",
    "#axis=0 : column-wise sum"
   ]
  },
  {
   "cell_type": "code",
   "execution_count": 24,
   "id": "daab73dc-e338-48e7-a30d-6df16862a0d9",
   "metadata": {},
   "outputs": [
    {
     "data": {
      "text/plain": [
       "array([[ 1,  3,  6],\n",
       "       [ 4,  9, 15]])"
      ]
     },
     "execution_count": 24,
     "metadata": {},
     "output_type": "execute_result"
    }
   ],
   "source": [
    "np.cumsum(arr,axis=1) "
   ]
  },
  {
   "cell_type": "markdown",
   "id": "10de7df8-c910-4a5e-b68c-4754637bf9ee",
   "metadata": {},
   "source": [
    "# 5.Reshaping & Combining"
   ]
  },
  {
   "cell_type": "code",
   "execution_count": 25,
   "id": "e93f3f02-c0d4-49b5-a4b0-cbf9ef4a3e71",
   "metadata": {},
   "outputs": [
    {
     "data": {
      "text/plain": [
       "array([[1, 2],\n",
       "       [3, 4],\n",
       "       [5, 6]])"
      ]
     },
     "execution_count": 25,
     "metadata": {},
     "output_type": "execute_result"
    }
   ],
   "source": [
    "arr.reshape(3,2)"
   ]
  },
  {
   "cell_type": "code",
   "execution_count": 26,
   "id": "865ca8f5-f372-40c3-9c84-be43954ed830",
   "metadata": {},
   "outputs": [
    {
     "data": {
      "text/plain": [
       "array([1, 2, 3, 4, 5, 6])"
      ]
     },
     "execution_count": 26,
     "metadata": {},
     "output_type": "execute_result"
    }
   ],
   "source": [
    "arr.flatten()"
   ]
  },
  {
   "cell_type": "code",
   "execution_count": 27,
   "id": "7f8923af-50c9-4069-a767-96b23fbb3c10",
   "metadata": {},
   "outputs": [],
   "source": [
    "arr1=([[6,7,8],[9,10,12]])"
   ]
  },
  {
   "cell_type": "code",
   "execution_count": 28,
   "id": "cb457e71-4806-49f5-bc12-4e2a1826027d",
   "metadata": {},
   "outputs": [
    {
     "data": {
      "text/plain": [
       "array([[ 1,  2,  3],\n",
       "       [ 4,  5,  6],\n",
       "       [ 6,  7,  8],\n",
       "       [ 9, 10, 12]])"
      ]
     },
     "execution_count": 28,
     "metadata": {},
     "output_type": "execute_result"
    }
   ],
   "source": [
    "np.vstack((arr, arr1))"
   ]
  },
  {
   "cell_type": "code",
   "execution_count": 29,
   "id": "9543670b-52e4-432f-baa0-9043c181dca8",
   "metadata": {},
   "outputs": [
    {
     "data": {
      "text/plain": [
       "array([[ 1,  2,  3,  6,  7,  8],\n",
       "       [ 4,  5,  6,  9, 10, 12]])"
      ]
     },
     "execution_count": 29,
     "metadata": {},
     "output_type": "execute_result"
    }
   ],
   "source": [
    "np.hstack((arr, arr1))"
   ]
  },
  {
   "cell_type": "markdown",
   "id": "816c24af-bddf-4496-8e4e-f167faf11631",
   "metadata": {},
   "source": [
    "# 6.Missing Values & NaNs"
   ]
  },
  {
   "cell_type": "code",
   "execution_count": null,
   "id": "c741b81c-ef44-4ce8-953c-3e2d5fdd7602",
   "metadata": {},
   "outputs": [],
   "source": [
    "#Nans : Not a Number"
   ]
  },
  {
   "cell_type": "code",
   "execution_count": 30,
   "id": "7474ec41-eda4-45d5-8bcd-befd5ce767c8",
   "metadata": {},
   "outputs": [
    {
     "data": {
      "text/plain": [
       "array([[False, False, False],\n",
       "       [False, False, False]])"
      ]
     },
     "execution_count": 30,
     "metadata": {},
     "output_type": "execute_result"
    }
   ],
   "source": [
    "np.isnan(arr)"
   ]
  },
  {
   "cell_type": "code",
   "execution_count": 31,
   "id": "35b034f1-6284-4016-8f38-56b8b224a349",
   "metadata": {},
   "outputs": [
    {
     "data": {
      "text/plain": [
       "3.5"
      ]
     },
     "execution_count": 31,
     "metadata": {},
     "output_type": "execute_result"
    }
   ],
   "source": [
    "np.nanmean(arr) "
   ]
  },
  {
   "cell_type": "code",
   "execution_count": 32,
   "id": "b69609a5-f904-4043-a35f-db7e1a761af3",
   "metadata": {},
   "outputs": [],
   "source": [
    "arr2=([1,4,5, np.nan])"
   ]
  },
  {
   "cell_type": "code",
   "execution_count": 33,
   "id": "895f8427-5a5f-471d-be23-49df5df000ca",
   "metadata": {},
   "outputs": [
    {
     "data": {
      "text/plain": [
       "array([1., 4., 5., 0.])"
      ]
     },
     "execution_count": 33,
     "metadata": {},
     "output_type": "execute_result"
    }
   ],
   "source": [
    "np.nan_to_num(arr2) "
   ]
  },
  {
   "cell_type": "code",
   "execution_count": null,
   "id": "686afda2-d883-4681-9b23-37a7cfb02ca2",
   "metadata": {},
   "outputs": [],
   "source": []
  }
 ],
 "metadata": {
  "kernelspec": {
   "display_name": "Python 3 (ipykernel)",
   "language": "python",
   "name": "python3"
  },
  "language_info": {
   "codemirror_mode": {
    "name": "ipython",
    "version": 3
   },
   "file_extension": ".py",
   "mimetype": "text/x-python",
   "name": "python",
   "nbconvert_exporter": "python",
   "pygments_lexer": "ipython3",
   "version": "3.12.7"
  }
 },
 "nbformat": 4,
 "nbformat_minor": 5
}
